{
 "cells": [
  {
   "cell_type": "code",
   "execution_count": 133,
   "metadata": {},
   "outputs": [],
   "source": [
    "import numpy as np\n",
    "import pandas as pd\n",
    "import matplotlib.pyplot as plt\n",
    "from sklearn import linear_model"
   ]
  },
  {
   "cell_type": "code",
   "execution_count": 134,
   "metadata": {},
   "outputs": [],
   "source": [
    "dataset = pd.read_csv('diabetes.csv')"
   ]
  },
  {
   "cell_type": "code",
   "execution_count": 135,
   "metadata": {},
   "outputs": [
    {
     "data": {
      "text/html": [
       "<div>\n",
       "<style scoped>\n",
       "    .dataframe tbody tr th:only-of-type {\n",
       "        vertical-align: middle;\n",
       "    }\n",
       "\n",
       "    .dataframe tbody tr th {\n",
       "        vertical-align: top;\n",
       "    }\n",
       "\n",
       "    .dataframe thead th {\n",
       "        text-align: right;\n",
       "    }\n",
       "</style>\n",
       "<table border=\"1\" class=\"dataframe\">\n",
       "  <thead>\n",
       "    <tr style=\"text-align: right;\">\n",
       "      <th></th>\n",
       "      <th>Pregnancies</th>\n",
       "      <th>Glucose</th>\n",
       "      <th>BloodPressure</th>\n",
       "      <th>SkinThickness</th>\n",
       "      <th>Insulin</th>\n",
       "      <th>BMI</th>\n",
       "      <th>DiabetesPedigreeFunction</th>\n",
       "      <th>Age</th>\n",
       "      <th>Outcome</th>\n",
       "    </tr>\n",
       "  </thead>\n",
       "  <tbody>\n",
       "    <tr>\n",
       "      <th>0</th>\n",
       "      <td>6</td>\n",
       "      <td>148</td>\n",
       "      <td>72</td>\n",
       "      <td>35</td>\n",
       "      <td>0</td>\n",
       "      <td>33.6</td>\n",
       "      <td>0.627</td>\n",
       "      <td>50</td>\n",
       "      <td>1</td>\n",
       "    </tr>\n",
       "    <tr>\n",
       "      <th>1</th>\n",
       "      <td>1</td>\n",
       "      <td>85</td>\n",
       "      <td>66</td>\n",
       "      <td>29</td>\n",
       "      <td>0</td>\n",
       "      <td>26.6</td>\n",
       "      <td>0.351</td>\n",
       "      <td>31</td>\n",
       "      <td>0</td>\n",
       "    </tr>\n",
       "    <tr>\n",
       "      <th>2</th>\n",
       "      <td>8</td>\n",
       "      <td>183</td>\n",
       "      <td>64</td>\n",
       "      <td>0</td>\n",
       "      <td>0</td>\n",
       "      <td>23.3</td>\n",
       "      <td>0.672</td>\n",
       "      <td>32</td>\n",
       "      <td>1</td>\n",
       "    </tr>\n",
       "    <tr>\n",
       "      <th>3</th>\n",
       "      <td>1</td>\n",
       "      <td>89</td>\n",
       "      <td>66</td>\n",
       "      <td>23</td>\n",
       "      <td>94</td>\n",
       "      <td>28.1</td>\n",
       "      <td>0.167</td>\n",
       "      <td>21</td>\n",
       "      <td>0</td>\n",
       "    </tr>\n",
       "    <tr>\n",
       "      <th>4</th>\n",
       "      <td>0</td>\n",
       "      <td>137</td>\n",
       "      <td>40</td>\n",
       "      <td>35</td>\n",
       "      <td>168</td>\n",
       "      <td>43.1</td>\n",
       "      <td>2.288</td>\n",
       "      <td>33</td>\n",
       "      <td>1</td>\n",
       "    </tr>\n",
       "    <tr>\n",
       "      <th>...</th>\n",
       "      <td>...</td>\n",
       "      <td>...</td>\n",
       "      <td>...</td>\n",
       "      <td>...</td>\n",
       "      <td>...</td>\n",
       "      <td>...</td>\n",
       "      <td>...</td>\n",
       "      <td>...</td>\n",
       "      <td>...</td>\n",
       "    </tr>\n",
       "    <tr>\n",
       "      <th>763</th>\n",
       "      <td>10</td>\n",
       "      <td>101</td>\n",
       "      <td>76</td>\n",
       "      <td>48</td>\n",
       "      <td>180</td>\n",
       "      <td>32.9</td>\n",
       "      <td>0.171</td>\n",
       "      <td>63</td>\n",
       "      <td>0</td>\n",
       "    </tr>\n",
       "    <tr>\n",
       "      <th>764</th>\n",
       "      <td>2</td>\n",
       "      <td>122</td>\n",
       "      <td>70</td>\n",
       "      <td>27</td>\n",
       "      <td>0</td>\n",
       "      <td>36.8</td>\n",
       "      <td>0.340</td>\n",
       "      <td>27</td>\n",
       "      <td>0</td>\n",
       "    </tr>\n",
       "    <tr>\n",
       "      <th>765</th>\n",
       "      <td>5</td>\n",
       "      <td>121</td>\n",
       "      <td>72</td>\n",
       "      <td>23</td>\n",
       "      <td>112</td>\n",
       "      <td>26.2</td>\n",
       "      <td>0.245</td>\n",
       "      <td>30</td>\n",
       "      <td>0</td>\n",
       "    </tr>\n",
       "    <tr>\n",
       "      <th>766</th>\n",
       "      <td>1</td>\n",
       "      <td>126</td>\n",
       "      <td>60</td>\n",
       "      <td>0</td>\n",
       "      <td>0</td>\n",
       "      <td>30.1</td>\n",
       "      <td>0.349</td>\n",
       "      <td>47</td>\n",
       "      <td>1</td>\n",
       "    </tr>\n",
       "    <tr>\n",
       "      <th>767</th>\n",
       "      <td>1</td>\n",
       "      <td>93</td>\n",
       "      <td>70</td>\n",
       "      <td>31</td>\n",
       "      <td>0</td>\n",
       "      <td>30.4</td>\n",
       "      <td>0.315</td>\n",
       "      <td>23</td>\n",
       "      <td>0</td>\n",
       "    </tr>\n",
       "  </tbody>\n",
       "</table>\n",
       "<p>768 rows × 9 columns</p>\n",
       "</div>"
      ],
      "text/plain": [
       "     Pregnancies  Glucose  BloodPressure  SkinThickness  Insulin   BMI  \\\n",
       "0              6      148             72             35        0  33.6   \n",
       "1              1       85             66             29        0  26.6   \n",
       "2              8      183             64              0        0  23.3   \n",
       "3              1       89             66             23       94  28.1   \n",
       "4              0      137             40             35      168  43.1   \n",
       "..           ...      ...            ...            ...      ...   ...   \n",
       "763           10      101             76             48      180  32.9   \n",
       "764            2      122             70             27        0  36.8   \n",
       "765            5      121             72             23      112  26.2   \n",
       "766            1      126             60              0        0  30.1   \n",
       "767            1       93             70             31        0  30.4   \n",
       "\n",
       "     DiabetesPedigreeFunction  Age  Outcome  \n",
       "0                       0.627   50        1  \n",
       "1                       0.351   31        0  \n",
       "2                       0.672   32        1  \n",
       "3                       0.167   21        0  \n",
       "4                       2.288   33        1  \n",
       "..                        ...  ...      ...  \n",
       "763                     0.171   63        0  \n",
       "764                     0.340   27        0  \n",
       "765                     0.245   30        0  \n",
       "766                     0.349   47        1  \n",
       "767                     0.315   23        0  \n",
       "\n",
       "[768 rows x 9 columns]"
      ]
     },
     "execution_count": 135,
     "metadata": {},
     "output_type": "execute_result"
    }
   ],
   "source": [
    "dataset"
   ]
  },
  {
   "cell_type": "code",
   "execution_count": 136,
   "metadata": {},
   "outputs": [
    {
     "data": {
      "text/plain": [
       "Pregnancies                 0\n",
       "Glucose                     0\n",
       "BloodPressure               0\n",
       "SkinThickness               0\n",
       "Insulin                     0\n",
       "BMI                         0\n",
       "DiabetesPedigreeFunction    0\n",
       "Age                         0\n",
       "Outcome                     0\n",
       "dtype: int64"
      ]
     },
     "execution_count": 136,
     "metadata": {},
     "output_type": "execute_result"
    }
   ],
   "source": [
    "dataset.isnull().sum()"
   ]
  },
  {
   "cell_type": "code",
   "execution_count": 137,
   "metadata": {},
   "outputs": [
    {
     "data": {
      "text/plain": [
       "(768, 9)"
      ]
     },
     "execution_count": 137,
     "metadata": {},
     "output_type": "execute_result"
    }
   ],
   "source": [
    "dataset.shape"
   ]
  },
  {
   "cell_type": "code",
   "execution_count": 138,
   "metadata": {},
   "outputs": [
    {
     "data": {
      "text/html": [
       "<div>\n",
       "<style scoped>\n",
       "    .dataframe tbody tr th:only-of-type {\n",
       "        vertical-align: middle;\n",
       "    }\n",
       "\n",
       "    .dataframe tbody tr th {\n",
       "        vertical-align: top;\n",
       "    }\n",
       "\n",
       "    .dataframe thead th {\n",
       "        text-align: right;\n",
       "    }\n",
       "</style>\n",
       "<table border=\"1\" class=\"dataframe\">\n",
       "  <thead>\n",
       "    <tr style=\"text-align: right;\">\n",
       "      <th></th>\n",
       "      <th>Pregnancies</th>\n",
       "      <th>Glucose</th>\n",
       "      <th>BloodPressure</th>\n",
       "      <th>SkinThickness</th>\n",
       "      <th>Insulin</th>\n",
       "      <th>BMI</th>\n",
       "      <th>DiabetesPedigreeFunction</th>\n",
       "      <th>Age</th>\n",
       "      <th>Outcome</th>\n",
       "    </tr>\n",
       "  </thead>\n",
       "  <tbody>\n",
       "    <tr>\n",
       "      <th>0</th>\n",
       "      <td>6</td>\n",
       "      <td>148</td>\n",
       "      <td>72</td>\n",
       "      <td>35</td>\n",
       "      <td>0</td>\n",
       "      <td>33.6</td>\n",
       "      <td>0.627</td>\n",
       "      <td>50</td>\n",
       "      <td>1</td>\n",
       "    </tr>\n",
       "    <tr>\n",
       "      <th>1</th>\n",
       "      <td>1</td>\n",
       "      <td>85</td>\n",
       "      <td>66</td>\n",
       "      <td>29</td>\n",
       "      <td>0</td>\n",
       "      <td>26.6</td>\n",
       "      <td>0.351</td>\n",
       "      <td>31</td>\n",
       "      <td>0</td>\n",
       "    </tr>\n",
       "    <tr>\n",
       "      <th>2</th>\n",
       "      <td>8</td>\n",
       "      <td>183</td>\n",
       "      <td>64</td>\n",
       "      <td>0</td>\n",
       "      <td>0</td>\n",
       "      <td>23.3</td>\n",
       "      <td>0.672</td>\n",
       "      <td>32</td>\n",
       "      <td>1</td>\n",
       "    </tr>\n",
       "    <tr>\n",
       "      <th>3</th>\n",
       "      <td>1</td>\n",
       "      <td>89</td>\n",
       "      <td>66</td>\n",
       "      <td>23</td>\n",
       "      <td>94</td>\n",
       "      <td>28.1</td>\n",
       "      <td>0.167</td>\n",
       "      <td>21</td>\n",
       "      <td>0</td>\n",
       "    </tr>\n",
       "    <tr>\n",
       "      <th>4</th>\n",
       "      <td>0</td>\n",
       "      <td>137</td>\n",
       "      <td>40</td>\n",
       "      <td>35</td>\n",
       "      <td>168</td>\n",
       "      <td>43.1</td>\n",
       "      <td>2.288</td>\n",
       "      <td>33</td>\n",
       "      <td>1</td>\n",
       "    </tr>\n",
       "  </tbody>\n",
       "</table>\n",
       "</div>"
      ],
      "text/plain": [
       "   Pregnancies  Glucose  BloodPressure  SkinThickness  Insulin   BMI  \\\n",
       "0            6      148             72             35        0  33.6   \n",
       "1            1       85             66             29        0  26.6   \n",
       "2            8      183             64              0        0  23.3   \n",
       "3            1       89             66             23       94  28.1   \n",
       "4            0      137             40             35      168  43.1   \n",
       "\n",
       "   DiabetesPedigreeFunction  Age  Outcome  \n",
       "0                     0.627   50        1  \n",
       "1                     0.351   31        0  \n",
       "2                     0.672   32        1  \n",
       "3                     0.167   21        0  \n",
       "4                     2.288   33        1  "
      ]
     },
     "execution_count": 138,
     "metadata": {},
     "output_type": "execute_result"
    }
   ],
   "source": [
    "dataset.head()"
   ]
  },
  {
   "cell_type": "code",
   "execution_count": 139,
   "metadata": {},
   "outputs": [],
   "source": [
    "x = dataset[['Pregnancies','Glucose','BloodPressure','SkinThickness','Insulin','BMI','DiabetesPedigreeFunction','Age']] \n",
    "y = dataset['Outcome']"
   ]
  },
  {
   "cell_type": "code",
   "execution_count": 140,
   "metadata": {},
   "outputs": [],
   "source": [
    "from sklearn.model_selection import train_test_split"
   ]
  },
  {
   "cell_type": "code",
   "execution_count": 141,
   "metadata": {},
   "outputs": [],
   "source": [
    "xtrain,xtest,ytrain,ytest = train_test_split(x,y,test_size = .30,random_state = 1)"
   ]
  },
  {
   "cell_type": "code",
   "execution_count": 142,
   "metadata": {},
   "outputs": [],
   "source": [
    "from sklearn.linear_model import LogisticRegression "
   ]
  },
  {
   "cell_type": "code",
   "execution_count": 143,
   "metadata": {},
   "outputs": [],
   "source": [
    "reg = LogisticRegression()"
   ]
  },
  {
   "cell_type": "code",
   "execution_count": 144,
   "metadata": {},
   "outputs": [
    {
     "data": {
      "text/plain": [
       "LogisticRegression()"
      ]
     },
     "execution_count": 144,
     "metadata": {},
     "output_type": "execute_result"
    }
   ],
   "source": [
    "reg.fit(xtrain,ytrain)"
   ]
  },
  {
   "cell_type": "code",
   "execution_count": 145,
   "metadata": {},
   "outputs": [
    {
     "data": {
      "text/plain": [
       "array([0, 0, 0, 0, 0, 0, 0, 0, 0, 0, 0, 0, 1, 1, 0, 1, 0, 0, 0, 0, 0, 0,\n",
       "       1, 0, 0, 0, 0, 1, 0, 0, 0, 0, 0, 1, 0, 1, 0, 0, 0, 1, 0, 0, 0, 0,\n",
       "       0, 0, 1, 1, 0, 0, 0, 0, 1, 0, 1, 0, 1, 0, 1, 0, 1, 0, 1, 0, 0, 0,\n",
       "       0, 0, 1, 1, 1, 1, 1, 0, 1, 0, 1, 0, 0, 1, 1, 0, 0, 0, 0, 1, 1, 0,\n",
       "       0, 0, 0, 0, 0, 0, 1, 0, 0, 0, 1, 0, 0, 0, 1, 0, 0, 0, 1, 1, 0, 0,\n",
       "       0, 0, 0, 0, 0, 0, 0, 0, 0, 0, 0, 1, 0, 0, 0, 0, 0, 0, 1, 0, 1, 0,\n",
       "       0, 0, 0, 0, 0, 1, 0, 0, 1, 0, 0, 1, 1, 0, 0, 0, 0, 0, 0, 1, 0, 0,\n",
       "       1, 1, 0, 0, 0, 0, 1, 1, 0, 0, 0, 0, 0, 1, 1, 1, 1, 1, 0, 0, 1, 0,\n",
       "       1, 0, 0, 0, 0, 1, 0, 1, 0, 0, 0, 1, 0, 0, 0, 0, 0, 0, 1, 0, 0, 0,\n",
       "       0, 1, 1, 0, 0, 0, 1, 1, 0, 0, 0, 1, 0, 0, 0, 1, 0, 0, 0, 0, 0, 0,\n",
       "       0, 0, 0, 1, 0, 0, 0, 0, 0, 1, 0], dtype=int64)"
      ]
     },
     "execution_count": 145,
     "metadata": {},
     "output_type": "execute_result"
    }
   ],
   "source": [
    "reg.predict(xtest)"
   ]
  },
  {
   "cell_type": "code",
   "execution_count": 146,
   "metadata": {},
   "outputs": [
    {
     "data": {
      "text/plain": [
       "0.7835497835497836"
      ]
     },
     "execution_count": 146,
     "metadata": {},
     "output_type": "execute_result"
    }
   ],
   "source": [
    "reg.score(xtest,ytest)"
   ]
  },
  {
   "cell_type": "code",
   "execution_count": 147,
   "metadata": {},
   "outputs": [],
   "source": [
    "from sklearn.metrics import accuracy_score"
   ]
  },
  {
   "cell_type": "code",
   "execution_count": 148,
   "metadata": {},
   "outputs": [],
   "source": [
    "predict = reg.predict(xtest)"
   ]
  },
  {
   "cell_type": "code",
   "execution_count": 149,
   "metadata": {},
   "outputs": [
    {
     "data": {
      "text/plain": [
       "0.7835497835497836"
      ]
     },
     "execution_count": 149,
     "metadata": {},
     "output_type": "execute_result"
    }
   ],
   "source": [
    "accuracy_score(ytest,predict)"
   ]
  },
  {
   "cell_type": "code",
   "execution_count": 150,
   "metadata": {},
   "outputs": [
    {
     "data": {
      "text/plain": [
       "array([[0.58040125, 0.41959875],\n",
       "       [0.69594775, 0.30405225],\n",
       "       [0.85395078, 0.14604922],\n",
       "       [0.94499834, 0.05500166],\n",
       "       [0.79048265, 0.20951735],\n",
       "       [0.72197359, 0.27802641],\n",
       "       [0.64280976, 0.35719024],\n",
       "       [0.89586996, 0.10413004],\n",
       "       [0.8349669 , 0.1650331 ],\n",
       "       [0.78879965, 0.21120035],\n",
       "       [0.56950872, 0.43049128],\n",
       "       [0.92486097, 0.07513903],\n",
       "       [0.01884576, 0.98115424],\n",
       "       [0.27328751, 0.72671249],\n",
       "       [0.97528377, 0.02471623],\n",
       "       [0.28338009, 0.71661991],\n",
       "       [0.76400335, 0.23599665],\n",
       "       [0.69651883, 0.30348117],\n",
       "       [0.87012086, 0.12987914],\n",
       "       [0.84402774, 0.15597226],\n",
       "       [0.61771926, 0.38228074],\n",
       "       [0.86680808, 0.13319192],\n",
       "       [0.04823581, 0.95176419],\n",
       "       [0.73908752, 0.26091248],\n",
       "       [0.92726303, 0.07273697],\n",
       "       [0.59294036, 0.40705964],\n",
       "       [0.79790815, 0.20209185],\n",
       "       [0.27468522, 0.72531478],\n",
       "       [0.91827874, 0.08172126],\n",
       "       [0.54150109, 0.45849891],\n",
       "       [0.59282204, 0.40717796],\n",
       "       [0.67448513, 0.32551487],\n",
       "       [0.94623855, 0.05376145],\n",
       "       [0.29864005, 0.70135995],\n",
       "       [0.87076127, 0.12923873],\n",
       "       [0.33422198, 0.66577802],\n",
       "       [0.91073852, 0.08926148],\n",
       "       [0.8191061 , 0.1808939 ],\n",
       "       [0.89706591, 0.10293409],\n",
       "       [0.37670255, 0.62329745],\n",
       "       [0.78965668, 0.21034332],\n",
       "       [0.91369462, 0.08630538],\n",
       "       [0.96117304, 0.03882696],\n",
       "       [0.71868279, 0.28131721],\n",
       "       [0.92936266, 0.07063734],\n",
       "       [0.97663777, 0.02336223],\n",
       "       [0.24372602, 0.75627398],\n",
       "       [0.18854976, 0.81145024],\n",
       "       [0.92353358, 0.07646642],\n",
       "       [0.85770533, 0.14229467],\n",
       "       [0.99140212, 0.00859788],\n",
       "       [0.82134678, 0.17865322],\n",
       "       [0.16544372, 0.83455628],\n",
       "       [0.94906896, 0.05093104],\n",
       "       [0.25472765, 0.74527235],\n",
       "       [0.89938107, 0.10061893],\n",
       "       [0.3834583 , 0.6165417 ],\n",
       "       [0.70171685, 0.29828315],\n",
       "       [0.43730364, 0.56269636],\n",
       "       [0.82929059, 0.17070941],\n",
       "       [0.38374304, 0.61625696],\n",
       "       [0.98681727, 0.01318273],\n",
       "       [0.28403817, 0.71596183],\n",
       "       [0.77954483, 0.22045517],\n",
       "       [0.62593158, 0.37406842],\n",
       "       [0.88848907, 0.11151093],\n",
       "       [0.98477109, 0.01522891],\n",
       "       [0.6434088 , 0.3565912 ],\n",
       "       [0.29899401, 0.70100599],\n",
       "       [0.39717571, 0.60282429],\n",
       "       [0.11889785, 0.88110215],\n",
       "       [0.24670342, 0.75329658],\n",
       "       [0.41800263, 0.58199737],\n",
       "       [0.98215178, 0.01784822],\n",
       "       [0.31853962, 0.68146038],\n",
       "       [0.73632823, 0.26367177],\n",
       "       [0.36819598, 0.63180402],\n",
       "       [0.70042733, 0.29957267],\n",
       "       [0.88346258, 0.11653742],\n",
       "       [0.3398629 , 0.6601371 ],\n",
       "       [0.33932619, 0.66067381],\n",
       "       [0.75968933, 0.24031067],\n",
       "       [0.56058572, 0.43941428],\n",
       "       [0.71019792, 0.28980208],\n",
       "       [0.73164154, 0.26835846],\n",
       "       [0.33705043, 0.66294957],\n",
       "       [0.40718785, 0.59281215],\n",
       "       [0.68178643, 0.31821357],\n",
       "       [0.6770661 , 0.3229339 ],\n",
       "       [0.72436076, 0.27563924],\n",
       "       [0.87921015, 0.12078985],\n",
       "       [0.96270265, 0.03729735],\n",
       "       [0.73989653, 0.26010347],\n",
       "       [0.89625696, 0.10374304],\n",
       "       [0.2511024 , 0.7488976 ],\n",
       "       [0.55162265, 0.44837735],\n",
       "       [0.71775108, 0.28224892],\n",
       "       [0.77342598, 0.22657402],\n",
       "       [0.13666343, 0.86333657],\n",
       "       [0.87312546, 0.12687454],\n",
       "       [0.8571072 , 0.1428928 ],\n",
       "       [0.69721961, 0.30278039],\n",
       "       [0.31231332, 0.68768668],\n",
       "       [0.76654656, 0.23345344],\n",
       "       [0.89114677, 0.10885323],\n",
       "       [0.91888253, 0.08111747],\n",
       "       [0.49049849, 0.50950151],\n",
       "       [0.3553578 , 0.6446422 ],\n",
       "       [0.79521927, 0.20478073],\n",
       "       [0.86545865, 0.13454135],\n",
       "       [0.63126252, 0.36873748],\n",
       "       [0.95008334, 0.04991666],\n",
       "       [0.55574981, 0.44425019],\n",
       "       [0.81766147, 0.18233853],\n",
       "       [0.97787095, 0.02212905],\n",
       "       [0.93167192, 0.06832808],\n",
       "       [0.87887541, 0.12112459],\n",
       "       [0.60491561, 0.39508439],\n",
       "       [0.72443115, 0.27556885],\n",
       "       [0.62050009, 0.37949991],\n",
       "       [0.7872271 , 0.2127729 ],\n",
       "       [0.12413932, 0.87586068],\n",
       "       [0.66989576, 0.33010424],\n",
       "       [0.6891708 , 0.3108292 ],\n",
       "       [0.85827205, 0.14172795],\n",
       "       [0.8509192 , 0.1490808 ],\n",
       "       [0.74518518, 0.25481482],\n",
       "       [0.62458667, 0.37541333],\n",
       "       [0.37926488, 0.62073512],\n",
       "       [0.76987255, 0.23012745],\n",
       "       [0.05079858, 0.94920142],\n",
       "       [0.95861115, 0.04138885],\n",
       "       [0.62411628, 0.37588372],\n",
       "       [0.64939543, 0.35060457],\n",
       "       [0.86685433, 0.13314567],\n",
       "       [0.76249353, 0.23750647],\n",
       "       [0.89265731, 0.10734269],\n",
       "       [0.35306557, 0.64693443],\n",
       "       [0.85926025, 0.14073975],\n",
       "       [0.7432301 , 0.2567699 ],\n",
       "       [0.06548328, 0.93451672],\n",
       "       [0.88690289, 0.11309711],\n",
       "       [0.82422152, 0.17577848],\n",
       "       [0.16831346, 0.83168654],\n",
       "       [0.32255095, 0.67744905],\n",
       "       [0.54690254, 0.45309746],\n",
       "       [0.94650189, 0.05349811],\n",
       "       [0.91924577, 0.08075423],\n",
       "       [0.83149997, 0.16850003],\n",
       "       [0.8468808 , 0.1531192 ],\n",
       "       [0.7149415 , 0.2850585 ],\n",
       "       [0.0420379 , 0.9579621 ],\n",
       "       [0.92730302, 0.07269698],\n",
       "       [0.74362237, 0.25637763],\n",
       "       [0.28211006, 0.71788994],\n",
       "       [0.26188643, 0.73811357],\n",
       "       [0.6928072 , 0.3071928 ],\n",
       "       [0.66709482, 0.33290518],\n",
       "       [0.68706147, 0.31293853],\n",
       "       [0.98434594, 0.01565406],\n",
       "       [0.2811455 , 0.7188545 ],\n",
       "       [0.41617525, 0.58382475],\n",
       "       [0.77550101, 0.22449899],\n",
       "       [0.96348009, 0.03651991],\n",
       "       [0.61978762, 0.38021238],\n",
       "       [0.6706792 , 0.3293208 ],\n",
       "       [0.70502779, 0.29497221],\n",
       "       [0.28402492, 0.71597508],\n",
       "       [0.2216562 , 0.7783438 ],\n",
       "       [0.37652051, 0.62347949],\n",
       "       [0.07049639, 0.92950361],\n",
       "       [0.27024485, 0.72975515],\n",
       "       [0.78180322, 0.21819678],\n",
       "       [0.90622897, 0.09377103],\n",
       "       [0.32515266, 0.67484734],\n",
       "       [0.64928505, 0.35071495],\n",
       "       [0.11442881, 0.88557119],\n",
       "       [0.85039368, 0.14960632],\n",
       "       [0.84995261, 0.15004739],\n",
       "       [0.81295483, 0.18704517],\n",
       "       [0.60753119, 0.39246881],\n",
       "       [0.26313172, 0.73686828],\n",
       "       [0.92587081, 0.07412919],\n",
       "       [0.11228272, 0.88771728],\n",
       "       [0.96410177, 0.03589823],\n",
       "       [0.92181166, 0.07818834],\n",
       "       [0.949151  , 0.050849  ],\n",
       "       [0.2592429 , 0.7407571 ],\n",
       "       [0.65775887, 0.34224113],\n",
       "       [0.79650497, 0.20349503],\n",
       "       [0.76959145, 0.23040855],\n",
       "       [0.93738475, 0.06261525],\n",
       "       [0.88418668, 0.11581332],\n",
       "       [0.87823149, 0.12176851],\n",
       "       [0.33117078, 0.66882922],\n",
       "       [0.88387859, 0.11612141],\n",
       "       [0.6226208 , 0.3773792 ],\n",
       "       [0.86872813, 0.13127187],\n",
       "       [0.71160752, 0.28839248],\n",
       "       [0.29530273, 0.70469727],\n",
       "       [0.07984699, 0.92015301],\n",
       "       [0.60375311, 0.39624689],\n",
       "       [0.88582109, 0.11417891],\n",
       "       [0.905743  , 0.094257  ],\n",
       "       [0.39132145, 0.60867855],\n",
       "       [0.20406994, 0.79593006],\n",
       "       [0.94423443, 0.05576557],\n",
       "       [0.88248523, 0.11751477],\n",
       "       [0.81693454, 0.18306546],\n",
       "       [0.21939118, 0.78060882],\n",
       "       [0.93068077, 0.06931923],\n",
       "       [0.56030274, 0.43969726],\n",
       "       [0.80355473, 0.19644527],\n",
       "       [0.35050317, 0.64949683],\n",
       "       [0.790844  , 0.209156  ],\n",
       "       [0.58471937, 0.41528063],\n",
       "       [0.74207727, 0.25792273],\n",
       "       [0.96383088, 0.03616912],\n",
       "       [0.78534388, 0.21465612],\n",
       "       [0.59621524, 0.40378476],\n",
       "       [0.8745875 , 0.1254125 ],\n",
       "       [0.85695831, 0.14304169],\n",
       "       [0.95005018, 0.04994982],\n",
       "       [0.08854498, 0.91145502],\n",
       "       [0.70134569, 0.29865431],\n",
       "       [0.72040021, 0.27959979],\n",
       "       [0.88338772, 0.11661228],\n",
       "       [0.88828344, 0.11171656],\n",
       "       [0.94710351, 0.05289649],\n",
       "       [0.12949105, 0.87050895],\n",
       "       [0.69608199, 0.30391801]])"
      ]
     },
     "execution_count": 150,
     "metadata": {},
     "output_type": "execute_result"
    }
   ],
   "source": [
    "reg.predict_proba(xtest)"
   ]
  },
  {
   "cell_type": "code",
   "execution_count": 151,
   "metadata": {},
   "outputs": [],
   "source": [
    "from sklearn.metrics import confusion_matrix"
   ]
  },
  {
   "cell_type": "code",
   "execution_count": 152,
   "metadata": {},
   "outputs": [
    {
     "data": {
      "text/plain": [
       "array([[132,  14],\n",
       "       [ 36,  49]], dtype=int64)"
      ]
     },
     "execution_count": 152,
     "metadata": {},
     "output_type": "execute_result"
    }
   ],
   "source": [
    "confusion_matrix(ytest,predict)"
   ]
  },
  {
   "cell_type": "code",
   "execution_count": 153,
   "metadata": {},
   "outputs": [],
   "source": [
    "from sklearn.metrics import classification_report"
   ]
  },
  {
   "cell_type": "code",
   "execution_count": 154,
   "metadata": {},
   "outputs": [
    {
     "name": "stdout",
     "output_type": "stream",
     "text": [
      "              precision    recall  f1-score   support\n",
      "\n",
      "           0       0.79      0.90      0.84       146\n",
      "           1       0.78      0.58      0.66        85\n",
      "\n",
      "    accuracy                           0.78       231\n",
      "   macro avg       0.78      0.74      0.75       231\n",
      "weighted avg       0.78      0.78      0.78       231\n",
      "\n"
     ]
    }
   ],
   "source": [
    "print(classification_report(ytest,predict))"
   ]
  },
  {
   "cell_type": "code",
   "execution_count": 159,
   "metadata": {},
   "outputs": [],
   "source": [
    "x1train,x1test,y1train,y1test = train_test_split(x,y,test_size = .25,random_state = 1)"
   ]
  },
  {
   "cell_type": "code",
   "execution_count": 160,
   "metadata": {},
   "outputs": [
    {
     "name": "stderr",
     "output_type": "stream",
     "text": [
      "C:\\ProgramData\\Anaconda3\\lib\\site-packages\\sklearn\\linear_model\\_logistic.py:762: ConvergenceWarning: lbfgs failed to converge (status=1):\n",
      "STOP: TOTAL NO. of ITERATIONS REACHED LIMIT.\n",
      "\n",
      "Increase the number of iterations (max_iter) or scale the data as shown in:\n",
      "    https://scikit-learn.org/stable/modules/preprocessing.html\n",
      "Please also refer to the documentation for alternative solver options:\n",
      "    https://scikit-learn.org/stable/modules/linear_model.html#logistic-regression\n",
      "  n_iter_i = _check_optimize_result(\n"
     ]
    },
    {
     "data": {
      "text/plain": [
       "LogisticRegression()"
      ]
     },
     "execution_count": 160,
     "metadata": {},
     "output_type": "execute_result"
    }
   ],
   "source": [
    "reg.fit(x1train,y1train)"
   ]
  },
  {
   "cell_type": "code",
   "execution_count": 161,
   "metadata": {},
   "outputs": [],
   "source": [
    "predict = reg.predict(x1test)"
   ]
  },
  {
   "cell_type": "code",
   "execution_count": 162,
   "metadata": {},
   "outputs": [
    {
     "data": {
      "text/plain": [
       "0.7760416666666666"
      ]
     },
     "execution_count": 162,
     "metadata": {},
     "output_type": "execute_result"
    }
   ],
   "source": [
    "accuracy_score(y1test,predict)"
   ]
  },
  {
   "cell_type": "code",
   "execution_count": 163,
   "metadata": {},
   "outputs": [
    {
     "name": "stdout",
     "output_type": "stream",
     "text": [
      "              precision    recall  f1-score   support\n",
      "\n",
      "           0       0.79      0.89      0.84       123\n",
      "           1       0.74      0.58      0.65        69\n",
      "\n",
      "    accuracy                           0.78       192\n",
      "   macro avg       0.77      0.73      0.74       192\n",
      "weighted avg       0.77      0.78      0.77       192\n",
      "\n"
     ]
    }
   ],
   "source": [
    "print(classification_report(y1test,predict))"
   ]
  },
  {
   "cell_type": "code",
   "execution_count": 164,
   "metadata": {},
   "outputs": [],
   "source": [
    "x2train,x2test,y2train,y2test = train_test_split(x,y,test_size = .40,random_state = 1)"
   ]
  },
  {
   "cell_type": "code",
   "execution_count": 165,
   "metadata": {},
   "outputs": [
    {
     "name": "stderr",
     "output_type": "stream",
     "text": [
      "C:\\ProgramData\\Anaconda3\\lib\\site-packages\\sklearn\\linear_model\\_logistic.py:762: ConvergenceWarning: lbfgs failed to converge (status=1):\n",
      "STOP: TOTAL NO. of ITERATIONS REACHED LIMIT.\n",
      "\n",
      "Increase the number of iterations (max_iter) or scale the data as shown in:\n",
      "    https://scikit-learn.org/stable/modules/preprocessing.html\n",
      "Please also refer to the documentation for alternative solver options:\n",
      "    https://scikit-learn.org/stable/modules/linear_model.html#logistic-regression\n",
      "  n_iter_i = _check_optimize_result(\n"
     ]
    },
    {
     "data": {
      "text/plain": [
       "LogisticRegression()"
      ]
     },
     "execution_count": 165,
     "metadata": {},
     "output_type": "execute_result"
    }
   ],
   "source": [
    "reg.fit(x2train,y2train)"
   ]
  },
  {
   "cell_type": "code",
   "execution_count": 166,
   "metadata": {},
   "outputs": [],
   "source": [
    "predict = reg.predict(x2test)"
   ]
  },
  {
   "cell_type": "code",
   "execution_count": 168,
   "metadata": {},
   "outputs": [
    {
     "data": {
      "text/plain": [
       "0.75"
      ]
     },
     "execution_count": 168,
     "metadata": {},
     "output_type": "execute_result"
    }
   ],
   "source": [
    "accuracy_score(y2test,predict)"
   ]
  },
  {
   "cell_type": "code",
   "execution_count": 169,
   "metadata": {},
   "outputs": [
    {
     "name": "stdout",
     "output_type": "stream",
     "text": [
      "              precision    recall  f1-score   support\n",
      "\n",
      "           0       0.77      0.87      0.82       199\n",
      "           1       0.69      0.53      0.60       109\n",
      "\n",
      "    accuracy                           0.75       308\n",
      "   macro avg       0.73      0.70      0.71       308\n",
      "weighted avg       0.74      0.75      0.74       308\n",
      "\n"
     ]
    }
   ],
   "source": [
    "print(classification_report(y2test,predict))"
   ]
  },
  {
   "cell_type": "code",
   "execution_count": 170,
   "metadata": {},
   "outputs": [],
   "source": [
    "x3train,x3test,y3train,y3test = train_test_split(x,y,test_size = .20,random_state = 1)"
   ]
  },
  {
   "cell_type": "code",
   "execution_count": 171,
   "metadata": {},
   "outputs": [
    {
     "name": "stderr",
     "output_type": "stream",
     "text": [
      "C:\\ProgramData\\Anaconda3\\lib\\site-packages\\sklearn\\linear_model\\_logistic.py:762: ConvergenceWarning: lbfgs failed to converge (status=1):\n",
      "STOP: TOTAL NO. of ITERATIONS REACHED LIMIT.\n",
      "\n",
      "Increase the number of iterations (max_iter) or scale the data as shown in:\n",
      "    https://scikit-learn.org/stable/modules/preprocessing.html\n",
      "Please also refer to the documentation for alternative solver options:\n",
      "    https://scikit-learn.org/stable/modules/linear_model.html#logistic-regression\n",
      "  n_iter_i = _check_optimize_result(\n"
     ]
    },
    {
     "data": {
      "text/plain": [
       "LogisticRegression()"
      ]
     },
     "execution_count": 171,
     "metadata": {},
     "output_type": "execute_result"
    }
   ],
   "source": [
    "reg.fit(x3train,y3train)"
   ]
  },
  {
   "cell_type": "code",
   "execution_count": 172,
   "metadata": {},
   "outputs": [],
   "source": [
    "predict = reg.predict(x3test)"
   ]
  },
  {
   "cell_type": "code",
   "execution_count": 173,
   "metadata": {},
   "outputs": [
    {
     "data": {
      "text/plain": [
       "0.7792207792207793"
      ]
     },
     "execution_count": 173,
     "metadata": {},
     "output_type": "execute_result"
    }
   ],
   "source": [
    "accuracy_score(y3test,predict)"
   ]
  },
  {
   "cell_type": "code",
   "execution_count": 174,
   "metadata": {},
   "outputs": [
    {
     "name": "stdout",
     "output_type": "stream",
     "text": [
      "              precision    recall  f1-score   support\n",
      "\n",
      "           0       0.79      0.90      0.84        99\n",
      "           1       0.76      0.56      0.65        55\n",
      "\n",
      "    accuracy                           0.78       154\n",
      "   macro avg       0.77      0.73      0.74       154\n",
      "weighted avg       0.78      0.78      0.77       154\n",
      "\n"
     ]
    }
   ],
   "source": [
    "print(classification_report(y3test,predict))"
   ]
  },
  {
   "cell_type": "code",
   "execution_count": null,
   "metadata": {},
   "outputs": [],
   "source": []
  }
 ],
 "metadata": {
  "kernelspec": {
   "display_name": "Python 3",
   "language": "python",
   "name": "python3"
  },
  "language_info": {
   "codemirror_mode": {
    "name": "ipython",
    "version": 3
   },
   "file_extension": ".py",
   "mimetype": "text/x-python",
   "name": "python",
   "nbconvert_exporter": "python",
   "pygments_lexer": "ipython3",
   "version": "3.8.3"
  }
 },
 "nbformat": 4,
 "nbformat_minor": 4
}
